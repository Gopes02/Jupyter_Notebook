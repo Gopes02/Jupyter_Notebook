{
 "cells": [
  {
   "cell_type": "markdown",
   "id": "5dfcbd4b",
   "metadata": {},
   "source": [
    "#  The following functions are going to be in alphabetical order"
   ]
  },
  {
   "cell_type": "markdown",
   "id": "bb13e4aa",
   "metadata": {},
   "source": [
    "Souce: https://docs.python.org/2/library/functions.html#abs"
   ]
  },
  {
   "cell_type": "markdown",
   "id": "2c1a4cfd",
   "metadata": {},
   "source": [
    "## 1. abs()"
   ]
  },
  {
   "cell_type": "markdown",
   "id": "1b4f526c",
   "metadata": {},
   "source": [
    "The function returns the absolute value of a number and if complex number is passed then it returns the magnitude of the complex number.\n",
    "#### Simple number: abs(-a) = a\n",
    "#### Complex number: abs(a+bj) = $\\sqrt(a^{2} + b^{2})$"
   ]
  },
  {
   "cell_type": "code",
   "execution_count": 1,
   "id": "8ed371a5",
   "metadata": {},
   "outputs": [
    {
     "name": "stdout",
     "output_type": "stream",
     "text": [
      "18\n",
      "4.123105625617661\n"
     ]
    }
   ],
   "source": [
    "# Simple number \n",
    "\n",
    "number = -18\n",
    "print(abs(number)) # should equal 18\n",
    "\n",
    "#complex number \n",
    "\n",
    "number2 = 4-1j\n",
    "print(abs(number2)) # Should equal 4.123105625617661"
   ]
  },
  {
   "cell_type": "markdown",
   "id": "c0df3aaf",
   "metadata": {},
   "source": [
    "## 2. all() "
   ]
  },
  {
   "cell_type": "markdown",
   "id": "615644e5",
   "metadata": {},
   "source": [
    "returns true if all of the *iterable are true\\\n",
    "iterable: object capable of returning its members one at a time"
   ]
  },
  {
   "cell_type": "code",
   "execution_count": 2,
   "id": "d6ce53a3",
   "metadata": {},
   "outputs": [
    {
     "name": "stdout",
     "output_type": "stream",
     "text": [
      "The set:  {'a': 1, 'b': 2, 'c': 2}\n",
      "True\n",
      "\n",
      "\n",
      "All of the following elements will return false for all(): '0', 'none', 'false'  \n",
      "\n",
      "\n",
      "The Truple:  (0, 1, 2, 3, 1)\n",
      "False\n",
      "\n",
      "\n",
      "The list:  [True, True, False]\n",
      "False\n"
     ]
    }
   ],
   "source": [
    "\n",
    "mySet = {'a':1,'b': 2,'c': 2}\n",
    "print(\"The set: \",mySet) #{} makes it a set or dictonary \n",
    "print(all(mySet)) #prints true because all elements of the list is true \n",
    "\n",
    "\n",
    "print(\"\\n\\nAll of the following elements will return false for all(): '0', 'none', 'false'  \\n\\n\")\n",
    "\n",
    "myTruple = (0,1,2,3,1)\n",
    "print(\"The Truple: \",myTruple) #() makes it a truple; truple are immutable objects\n",
    "print(all(myTruple)) #prints false because the first element is '0' \n",
    "print(\"\\n\")\n",
    "\n",
    "mylist= [True,True,False]\n",
    "print(\"The list: \",mylist) #[] makes it a list\n",
    "print(all(mylist)) #prints false because third ellement is 'false' \n",
    "\n",
    "\n"
   ]
  },
  {
   "cell_type": "markdown",
   "id": "78e97b08",
   "metadata": {},
   "source": [
    "### 3. any()"
   ]
  },
  {
   "cell_type": "markdown",
   "id": "685e84f8",
   "metadata": {},
   "source": [
    "returns true if any element of iterable is true "
   ]
  },
  {
   "cell_type": "code",
   "execution_count": 3,
   "id": "7102f789",
   "metadata": {},
   "outputs": [
    {
     "name": "stdout",
     "output_type": "stream",
     "text": [
      "The set:  {'a': 1, 'b': 2, 'c': 2, 'd': 0, 'e': 0}\n",
      "True\n",
      "\n",
      "\n",
      "The Truple:  (0, 1, 2, 3, 1)\n",
      "True\n",
      "\n",
      "\n",
      "The list:  [True, False, False]\n",
      "True\n"
     ]
    }
   ],
   "source": [
    "mySet = {'a':1,'b': 2,'c': 2,'d':0,'e':0}\n",
    "print(\"The set: \",mySet) #{} makes it a set or dictonary \n",
    "print(any(mySet)) #prints true because all elements of the list is true \n",
    "\n",
    "print(\"\\n\")\n",
    "\n",
    "myTruple = (0,1,2,3,1,)\n",
    "print(\"The Truple: \",myTruple) #() makes it a truple \n",
    "print(any(myTruple))  \n",
    "\n",
    "print(\"\\n\")\n",
    "\n",
    "mylist= [True,False,False]\n",
    "print(\"The list: \",mylist) #[] makes it a list\n",
    "print(any(mylist)) \n"
   ]
  },
  {
   "cell_type": "code",
   "execution_count": null,
   "id": "90455e97",
   "metadata": {},
   "outputs": [],
   "source": []
  }
 ],
 "metadata": {
  "kernelspec": {
   "display_name": "Python 3 (ipykernel)",
   "language": "python",
   "name": "python3"
  },
  "language_info": {
   "codemirror_mode": {
    "name": "ipython",
    "version": 3
   },
   "file_extension": ".py",
   "mimetype": "text/x-python",
   "name": "python",
   "nbconvert_exporter": "python",
   "pygments_lexer": "ipython3",
   "version": "3.10.8"
  }
 },
 "nbformat": 4,
 "nbformat_minor": 5
}
