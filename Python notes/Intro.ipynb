{
 "cells": [
  {
   "cell_type": "markdown",
   "id": "e82216cc",
   "metadata": {},
   "source": [
    "# Intro to Python"
   ]
  },
  {
   "cell_type": "markdown",
   "id": "bb2629a9",
   "metadata": {},
   "source": [
    "Just doing simple math "
   ]
  },
  {
   "cell_type": "code",
   "execution_count": null,
   "id": "c30a4dc7",
   "metadata": {
    "scrolled": true
   },
   "outputs": [],
   "source": [
    "3/3"
   ]
  },
  {
   "cell_type": "markdown",
   "id": "3c72a0a6",
   "metadata": {},
   "source": [
    "Giving a variable a type and printing the value of a variable and its type (class).  "
   ]
  },
  {
   "cell_type": "code",
   "execution_count": null,
   "id": "335b85a6",
   "metadata": {},
   "outputs": [],
   "source": [
    "b = 2.3      #b has the value of 2.3, hence making its class float \n",
    "print(b)\n",
    "print(type(b))\n",
    "\n"
   ]
  },
  {
   "cell_type": "markdown",
   "id": "094f9a81",
   "metadata": {},
   "source": [
    "there is no type char in python, so if b has the value 'a', we will see b is class string "
   ]
  },
  {
   "cell_type": "code",
   "execution_count": null,
   "id": "71e2fe7d",
   "metadata": {},
   "outputs": [],
   "source": [
    "b = 'a'\n",
    "print(b)\n",
    "print(type(b))"
   ]
  },
  {
   "cell_type": "markdown",
   "id": "856e144c",
   "metadata": {},
   "source": [
    "To view all current keywords type the following prompt "
   ]
  },
  {
   "cell_type": "code",
   "execution_count": null,
   "id": "5504a64f",
   "metadata": {},
   "outputs": [],
   "source": [
    "import keyword \n",
    "print(keyword.kwlist)"
   ]
  },
  {
   "cell_type": "markdown",
   "id": "2a760d0e",
   "metadata": {},
   "source": [
    "testing out the keyword 'true' and 'false' "
   ]
  },
  {
   "cell_type": "code",
   "execution_count": null,
   "id": "2b5d13dd",
   "metadata": {},
   "outputs": [],
   "source": [
    "print (1 == 1)\n",
    "print (1 == 2)\n",
    "# use 'or' and 'and' instead of '||' and '&&'\n",
    "print (4 >= 4 and 4 >= 5)\n",
    "print (4 >= 4 or 4 >= 5)"
   ]
  },
  {
   "cell_type": "markdown",
   "id": "6050e1c6",
   "metadata": {},
   "source": [
    "Testing the return function:\n",
    "    def is the keyword to define a function \n",
    "    then it is followed by the name of the function, which appears in blue\n",
    "    followed by the parameter(s) in ()\n",
    "    we end with ':' which starts the function body \n",
    "        indent the next line "
   ]
  },
  {
   "cell_type": "code",
   "execution_count": null,
   "id": "e94520e1",
   "metadata": {},
   "outputs": [],
   "source": [
    "def testing_return_function(a):\n",
    "    if a == 2: \n",
    "        return True\n",
    "    else:\n",
    "        return False\n",
    "\n",
    "x = testing_return_function(3)      \n",
    "print(x)\n"
   ]
  },
  {
   "cell_type": "code",
   "execution_count": null,
   "id": "e8618ed9",
   "metadata": {},
   "outputs": [],
   "source": [
    "help(\"float\")"
   ]
  },
  {
   "cell_type": "code",
   "execution_count": null,
   "id": "da135764",
   "metadata": {},
   "outputs": [],
   "source": [
    "x = float(1)\n",
    "print(x)\n",
    "print(abs(x))\n"
   ]
  },
  {
   "cell_type": "code",
   "execution_count": null,
   "id": "e71383b3",
   "metadata": {},
   "outputs": [],
   "source": [
    "n = 10\n",
    "m = 1.1\n",
    "((n/m)).is_integer()\n",
    "\n"
   ]
  },
  {
   "cell_type": "markdown",
   "id": "afe3374e",
   "metadata": {},
   "source": [
    "editing the type of variables; in this example we go from type float to int"
   ]
  },
  {
   "cell_type": "code",
   "execution_count": null,
   "id": "d66fc9fa",
   "metadata": {},
   "outputs": [],
   "source": [
    "z = 10.0\n",
    "z = int(z)\n",
    "print(z,type(z))"
   ]
  },
  {
   "cell_type": "markdown",
   "id": "52a53d47",
   "metadata": {},
   "source": [
    "Printing with 'And' & 'or'"
   ]
  },
  {
   "cell_type": "code",
   "execution_count": null,
   "id": "1735a223",
   "metadata": {},
   "outputs": [],
   "source": [
    "s = True \n",
    "r = False \n",
    "\n",
    "print(s and r) #prints 'False' because 's' is False\n",
    "print(s or r)  #prints 'True' because 'r' is True \n",
    "print(not s)   #prints 'False' because its the opposite of 's' \n",
    "print(s != r)  #prints 'True' because 's' doesnt equal 'r'   "
   ]
  },
  {
   "cell_type": "markdown",
   "id": "f970ead6",
   "metadata": {},
   "source": [
    "Since Python doesn't have type 'char', we can use '' or \"\" for string \\\n",
    "Use '''   ''' when text uses more than one line \n"
   ]
  },
  {
   "cell_type": "code",
   "execution_count": null,
   "id": "8f089e8a",
   "metadata": {},
   "outputs": [],
   "source": [
    "s1 = 'hello'\n",
    "s2 = 'fives'\n",
    "s3 = '''\n",
    "Some long text\n",
    "that takes up too many \n",
    "line \n",
    "'''\n",
    "\n",
    "print(s1,len(s1),type(s1))\n",
    "print(s2,len(s2),type(s2))\n",
    "print(s3,len(s3),type(s3))\n",
    "print(\"S1 and S2 are the exact same: \", s1 == s2)\n"
   ]
  },
  {
   "cell_type": "markdown",
   "id": "4b8ba0b5",
   "metadata": {},
   "source": [
    "for s4 we are using sprintf style string formating \\\n",
    "    User inputs string type for the first two inputs, and an int for the 3rd \\\n",
    "for s5 we use string concatenation"
   ]
  },
  {
   "cell_type": "code",
   "execution_count": null,
   "id": "c106fea7",
   "metadata": {},
   "outputs": [],
   "source": [
    "userInput = input(\"Enter any string type: \")\n",
    "userInput2 = input(\"Enter any string type: \")\n",
    "userInput3 = input(\"Enter any intiger\")\n",
    "uI3 = int(userInput3)\n",
    "s4 = '%s, %s, %d' % (userInput,userInput2,uI3)\n",
    "s5 = userInput + ' to this ' + userInput2\n",
    "print(s4)\n",
    "print(s5)\n"
   ]
  },
  {
   "cell_type": "markdown",
   "id": "c15e7a75",
   "metadata": {},
   "source": [
    "**capitalize()**: capitalize the first letter\\\n",
    "**upper()**: capitalize the whole string\\\n",
    "**lower()**: lowercase the whole string\\\n",
    "**rjust(#)**: # spaces from the left\\\n",
    "**ljust(#)**: # spaces to the right\\\n",
    "**center(#)**: makes string lenght equal to #, adding space before and after\\\n",
    "**replace('x','y')**: 'x' is replaced with 'y'\\\n",
    "**strip()**: removes leading and trailing whitespace "
   ]
  },
  {
   "cell_type": "code",
   "execution_count": null,
   "id": "15b60776",
   "metadata": {},
   "outputs": [],
   "source": [
    "s = ' hello '\n",
    "\n",
    "print(s.capitalize())\n",
    "print(s.upper())\n",
    "print(s.lower())\n",
    "print('well',s)      #to compare to rjust\n",
    "print('well',s.rjust(8))\n",
    "print(s,'there')     #to compare to ljust\n",
    "print(s.ljust(8),'there')\n",
    "print(s.center(7),'lad')\n",
    "print(s.center(8),\"lad\")\n",
    "print(s.replace('l','(ill)'))\n",
    "print(s.strip())"
   ]
  },
  {
   "cell_type": "markdown",
   "id": "fc34262b",
   "metadata": {},
   "source": [
    "### practice with lists \n"
   ]
  },
  {
   "cell_type": "code",
   "execution_count": null,
   "id": "cc1dda3b",
   "metadata": {},
   "outputs": [],
   "source": [
    "list = input(\"Enter the elements of the list, use space between each element: \").split()\n",
    "print(list)"
   ]
  },
  {
   "cell_type": "markdown",
   "id": "a05867c5",
   "metadata": {},
   "source": [
    "list[#] = 'any value' : changes the # element to 'any value' \\\n",
    "**append(#)**: adds element # to the end of the list\n",
    "**insert(#,'value')**: adds element to postion #+1 with the value of 'value' \n",
    "**pop(#)**:  removes #+1 element "
   ]
  },
  {
   "cell_type": "code",
   "execution_count": null,
   "id": "a3fc4304",
   "metadata": {},
   "outputs": [],
   "source": [
    "print(list[0])\n",
    "list.append('2')\n",
    "print(list)\n",
    "list.insert(2,\"9\")\n",
    "print(list)\n",
    "list.pop(6)\n",
    "print(list)"
   ]
  },
  {
   "cell_type": "code",
   "execution_count": null,
   "id": "1a045872",
   "metadata": {},
   "outputs": [],
   "source": [
    "print (list[:4],type(list)) #first 4th elements "
   ]
  },
  {
   "cell_type": "markdown",
   "id": "3cfc8c9a",
   "metadata": {},
   "source": [
    "Creating a **tuple**"
   ]
  },
  {
   "cell_type": "code",
   "execution_count": null,
   "id": "5c5f05b8",
   "metadata": {},
   "outputs": [],
   "source": [
    "t = (5,6)\n",
    "print(t,type(t))"
   ]
  },
  {
   "cell_type": "markdown",
   "id": "25078866",
   "metadata": {},
   "source": [
    "Tuple can be used as a key in a dictonary"
   ]
  },
  {
   "cell_type": "code",
   "execution_count": null,
   "id": "6b227499",
   "metadata": {},
   "outputs": [],
   "source": [
    "dict = {(x,x+1): x for x in range(6)} \n",
    "print (dict)\n",
    "print (dict[t])\n",
    "print (dict[1,2])\n",
    "#t[0] = 1 tuples are immutable so this would print an error "
   ]
  },
  {
   "cell_type": "markdown",
   "id": "dfb104bc",
   "metadata": {},
   "source": [
    "**Map** in python"
   ]
  },
  {
   "cell_type": "code",
   "execution_count": null,
   "id": "603a9320",
   "metadata": {},
   "outputs": [],
   "source": [
    "dct = {'buddy':'dog','jill':'girl' }\n",
    "\n",
    "print(dct,type(dct))\n",
    "print(dct['buddy'])          # prints value of buddy(key)\n",
    "print(dct.keys())            # prints all keys \n",
    "print(dct.values())          # prints all values \n",
    "print(dct.items())           # prints all keys and values \n",
    "print('buddy' in dct)        # prints 'true' if key is in dicatonary \n",
    "\n",
    "dct['dame'] = 'fish'         # creates key 'dame' with value 'fish'\n",
    "dct['buddy'] = 'lion'        # changes value of 'buddy'(key) to lion\n",
    "print(dct)\n",
    "del dct['jill'] \n",
    "dct[10] = 69                # adding a diff type in dictonary\n",
    "print(dct)"
   ]
  },
  {
   "cell_type": "code",
   "execution_count": null,
   "id": "d197cb0c",
   "metadata": {
    "scrolled": true
   },
   "outputs": [],
   "source": [
    "help(\"dict\")"
   ]
  },
  {
   "cell_type": "markdown",
   "id": "065e22b2",
   "metadata": {},
   "source": [
    "To look up the value of a certin key use: \\\n",
    "\n",
    "**(dictName).get('key','N/A'))**\n",
    "\n",
    "using this function will pervent getting an error message incase the key doesnt exist, if it does then it will print the value of the key, otherwise print 'N/A'"
   ]
  },
  {
   "cell_type": "code",
   "execution_count": null,
   "id": "e6d6fd06",
   "metadata": {},
   "outputs": [],
   "source": [
    "print (dct.get(10,'N/A')) # for number don't put ''\n",
    "print (dct.get('buddy','N/A'))\n",
    "print (dct.get(\"zombie\",\"N/A\"))"
   ]
  },
  {
   "cell_type": "markdown",
   "id": "d791d650",
   "metadata": {},
   "source": [
    "**Sets** in python"
   ]
  },
  {
   "cell_type": "code",
   "execution_count": null,
   "id": "7d191ad2",
   "metadata": {},
   "outputs": [],
   "source": [
    "pets = {'cat','dog', 'fish'} # created a set pets\n",
    "print (pets, type(pets))     # print set pets with type\n",
    "print ('dog' in pets)        # true since dog is in set pets\n",
    "print ('lion' in pets)       \n",
    "pets.add('hamster')          # adds hamster to set pets\n",
    "print (pets)\n",
    "pets.remove('cat')           # removes cat from pets\n",
    "print(pets)"
   ]
  },
  {
   "cell_type": "markdown",
   "id": "8895bcf5",
   "metadata": {},
   "source": [
    "Practice with if, elif, else \n",
    "    \n",
    "    elif is if else in python \n",
    "    "
   ]
  },
  {
   "cell_type": "code",
   "execution_count": null,
   "id": "0f928450",
   "metadata": {},
   "outputs": [],
   "source": [
    "height = input(\"Enter your hight in feet: \")\n",
    "x = float(height)\n",
    "if x <= 5 and x > 0:\n",
    "    print (\"Are you a child?\")\n",
    "elif x > 5 and x < 6:\n",
    "    print (\"You are short\")\n",
    "elif x > 6 and x <= 7: \n",
    "    print(\"You are tall\")\n",
    "elif x > 7:\n",
    "    print (\"You are too tall\")\n",
    "else:\n",
    "    print (\"You lying\")\n"
   ]
  },
  {
   "cell_type": "markdown",
   "id": "c882c8ec",
   "metadata": {},
   "source": [
    "**While loop**"
   ]
  },
  {
   "cell_type": "code",
   "execution_count": null,
   "id": "f2291677",
   "metadata": {},
   "outputs": [],
   "source": [
    "value = input (\"Enter a positive whole number: \")\n",
    "x = int(value)\n",
    "total = 0\n",
    "y = 0\n",
    "while x > 0: \n",
    "    if total > 500:\n",
    "        break\n",
    "    total += x\n",
    "    x = x // 2\n",
    "    y = y + 1\n",
    "    print (\"The new value of x is\",x,\"while the total is\", total)\n",
    "print (\"The final value of x and the total are:\", x, total, \"while the loop ran:\", y )\n",
    "    "
   ]
  },
  {
   "cell_type": "markdown",
   "id": "faf1c3bb",
   "metadata": {},
   "source": [
    "**For loop**"
   ]
  },
  {
   "cell_type": "code",
   "execution_count": null,
   "id": "f5324f56",
   "metadata": {},
   "outputs": [],
   "source": [
    "begin = input (\"Enter the whole number, you want the for loop to begin: \")\n",
    "end = input (\"Enter the whole number, you want the for loop to end: \")\n",
    "\n",
    "x = int(begin)\n",
    "y = int(end)\n",
    "z = 0\n",
    "for i in range(x,y,1): # start, end, increment by\n",
    "    print (i)\n",
    "    z = z +1\n",
    "    \n",
    "print(\"The loop ran:\", z, \"times\")\n",
    "\n"
   ]
  },
  {
   "cell_type": "markdown",
   "id": "0b004a60",
   "metadata": {},
   "source": [
    "User input list converted into seprate lists based on types"
   ]
  },
  {
   "cell_type": "code",
   "execution_count": 1,
   "id": "d1fd5e3e",
   "metadata": {},
   "outputs": [
    {
     "name": "stdout",
     "output_type": "stream",
     "text": [
      "Enter the lenght of the list: 10\n",
      "Enter the value for element 0 of the list: 1\n",
      "Enter the value for element 1 of the list: 2\n",
      "Enter the value for element 2 of the list: 3\n",
      "Enter the value for element 3 of the list: a\n",
      "Enter the value for element 4 of the list: ss\n",
      "Enter the value for element 5 of the list: Gopes\n",
      "Enter the value for element 6 of the list: 1.2\n",
      "Enter the value for element 7 of the list: 22.2\n",
      "Enter the value for element 8 of the list: 10000000000.1\n",
      "Enter the value for element 9 of the list: 87272727\n",
      "The full list: ['1', '2', '3', 'a', 'ss', 'Gopes', '1.2', '22.2', '10000000000.1', '87272727']\n",
      "The ints in the list : [1, 2, 3, 87272727]\n",
      "The floats in the list : [1.2, 22.2, 10000000000.1]\n",
      "The strings in the list : ['a', 'ss', 'Gopes']\n"
     ]
    }
   ],
   "source": [
    "A = \"\"\n",
    "\n",
    "while not A.isdecimal():\n",
    "        A = input (\"Enter the lenght of the list: \")\n",
    "        \n",
    "x = int (A)\n",
    "u_list = []\n",
    "list_int = []\n",
    "list_str = []\n",
    "list_flt = []\n",
    "for i in range(x):\n",
    "    enter1 = input (f'Enter the value for element {i} of the list: ')\n",
    "    u_list.append(enter1)\n",
    "    try:\n",
    "        enter = int(enter1)\n",
    "        list_int.append(enter)\n",
    "    except ValueError:\n",
    "        try:\n",
    "            enter = float(enter1)\n",
    "            list_flt.append(enter)\n",
    "        except ValueError:\n",
    "            list_str.append(enter1)\n",
    "    \n",
    "print (f\"The full list: {u_list}\")\n",
    "print (f\"The ints in the list : {list_int}\")\n",
    "print (f\"The floats in the list : {list_flt}\")\n",
    "print (f\"The strings in the list : {list_str}\")"
   ]
  },
  {
   "cell_type": "code",
   "execution_count": null,
   "id": "283d339d",
   "metadata": {},
   "outputs": [],
   "source": []
  },
  {
   "cell_type": "code",
   "execution_count": null,
   "id": "9897889f",
   "metadata": {},
   "outputs": [],
   "source": []
  },
  {
   "cell_type": "code",
   "execution_count": null,
   "id": "a4aebf1d",
   "metadata": {},
   "outputs": [],
   "source": []
  }
 ],
 "metadata": {
  "kernelspec": {
   "display_name": "Python 3 (ipykernel)",
   "language": "python",
   "name": "python3"
  },
  "language_info": {
   "codemirror_mode": {
    "name": "ipython",
    "version": 3
   },
   "file_extension": ".py",
   "mimetype": "text/x-python",
   "name": "python",
   "nbconvert_exporter": "python",
   "pygments_lexer": "ipython3",
   "version": "3.10.8"
  }
 },
 "nbformat": 4,
 "nbformat_minor": 5
}
