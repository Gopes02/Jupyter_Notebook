{
 "cells": [
  {
   "cell_type": "markdown",
   "id": "e82216cc",
   "metadata": {},
   "source": [
    "# Intro to Python"
   ]
  },
  {
   "cell_type": "markdown",
   "id": "bb2629a9",
   "metadata": {},
   "source": [
    "Just doing simple math "
   ]
  },
  {
   "cell_type": "code",
   "execution_count": 1,
   "id": "c30a4dc7",
   "metadata": {
    "scrolled": true
   },
   "outputs": [
    {
     "data": {
      "text/plain": [
       "1.0"
      ]
     },
     "execution_count": 1,
     "metadata": {},
     "output_type": "execute_result"
    }
   ],
   "source": [
    "3/3"
   ]
  },
  {
   "cell_type": "markdown",
   "id": "3c72a0a6",
   "metadata": {},
   "source": [
    "Giving a variable a type and printing the value of a variable and its type (class).  "
   ]
  },
  {
   "cell_type": "code",
   "execution_count": 2,
   "id": "335b85a6",
   "metadata": {},
   "outputs": [
    {
     "name": "stdout",
     "output_type": "stream",
     "text": [
      "2.3\n",
      "<class 'float'>\n"
     ]
    }
   ],
   "source": [
    "b = 2.3      #b has the value of 2.3, hence making its class float \n",
    "print(b)\n",
    "print(type(b))\n",
    "\n"
   ]
  },
  {
   "cell_type": "markdown",
   "id": "094f9a81",
   "metadata": {},
   "source": [
    "there is no type char in python, so if b has the value 'a', we will see b is class string "
   ]
  },
  {
   "cell_type": "code",
   "execution_count": 3,
   "id": "71e2fe7d",
   "metadata": {},
   "outputs": [
    {
     "name": "stdout",
     "output_type": "stream",
     "text": [
      "a\n",
      "<class 'str'>\n"
     ]
    }
   ],
   "source": [
    "b = 'a'\n",
    "print(b)\n",
    "print(type(b))"
   ]
  },
  {
   "cell_type": "markdown",
   "id": "856e144c",
   "metadata": {},
   "source": [
    "To view all current keywords type the following prompt "
   ]
  },
  {
   "cell_type": "code",
   "execution_count": 4,
   "id": "5504a64f",
   "metadata": {},
   "outputs": [
    {
     "name": "stdout",
     "output_type": "stream",
     "text": [
      "['False', 'None', 'True', 'and', 'as', 'assert', 'async', 'await', 'break', 'class', 'continue', 'def', 'del', 'elif', 'else', 'except', 'finally', 'for', 'from', 'global', 'if', 'import', 'in', 'is', 'lambda', 'nonlocal', 'not', 'or', 'pass', 'raise', 'return', 'try', 'while', 'with', 'yield']\n"
     ]
    }
   ],
   "source": [
    "import keyword \n",
    "print(keyword.kwlist)"
   ]
  },
  {
   "cell_type": "markdown",
   "id": "2a760d0e",
   "metadata": {},
   "source": [
    "testing out the keyword 'true' and 'false' "
   ]
  },
  {
   "cell_type": "code",
   "execution_count": 5,
   "id": "2b5d13dd",
   "metadata": {},
   "outputs": [
    {
     "name": "stdout",
     "output_type": "stream",
     "text": [
      "True\n",
      "False\n",
      "False\n",
      "True\n"
     ]
    }
   ],
   "source": [
    "print (1 == 1)\n",
    "print (1 == 2)\n",
    "# use 'or' and 'and' instead of '||' and '&&'\n",
    "print (4 >= 4 and 4 >= 5)\n",
    "print (4 >= 4 or 4 >= 5)"
   ]
  },
  {
   "cell_type": "markdown",
   "id": "6050e1c6",
   "metadata": {},
   "source": [
    "Testing the return function:\n",
    "    def is the keyword to define a function \n",
    "    then it is followed by the name of the function, which appears in blue\n",
    "    followed by the parameter(s) in ()\n",
    "    we end with ':' which starts the function body \n",
    "        indent the next line "
   ]
  },
  {
   "cell_type": "code",
   "execution_count": 6,
   "id": "e94520e1",
   "metadata": {},
   "outputs": [
    {
     "name": "stdout",
     "output_type": "stream",
     "text": [
      "False\n"
     ]
    }
   ],
   "source": [
    "def testing_return_function(a):\n",
    "    if a == 2: \n",
    "        return True\n",
    "    else:\n",
    "        return False\n",
    "\n",
    "x = testing_return_function(3)      \n",
    "print(x)\n"
   ]
  },
  {
   "cell_type": "code",
   "execution_count": 7,
   "id": "e8618ed9",
   "metadata": {},
   "outputs": [
    {
     "name": "stdout",
     "output_type": "stream",
     "text": [
      "Help on class float in module builtins:\n",
      "\n",
      "class float(object)\n",
      " |  float(x=0, /)\n",
      " |  \n",
      " |  Convert a string or number to a floating point number, if possible.\n",
      " |  \n",
      " |  Methods defined here:\n",
      " |  \n",
      " |  __abs__(self, /)\n",
      " |      abs(self)\n",
      " |  \n",
      " |  __add__(self, value, /)\n",
      " |      Return self+value.\n",
      " |  \n",
      " |  __bool__(self, /)\n",
      " |      True if self else False\n",
      " |  \n",
      " |  __ceil__(self, /)\n",
      " |      Return the ceiling as an Integral.\n",
      " |  \n",
      " |  __divmod__(self, value, /)\n",
      " |      Return divmod(self, value).\n",
      " |  \n",
      " |  __eq__(self, value, /)\n",
      " |      Return self==value.\n",
      " |  \n",
      " |  __float__(self, /)\n",
      " |      float(self)\n",
      " |  \n",
      " |  __floor__(self, /)\n",
      " |      Return the floor as an Integral.\n",
      " |  \n",
      " |  __floordiv__(self, value, /)\n",
      " |      Return self//value.\n",
      " |  \n",
      " |  __format__(self, format_spec, /)\n",
      " |      Formats the float according to format_spec.\n",
      " |  \n",
      " |  __ge__(self, value, /)\n",
      " |      Return self>=value.\n",
      " |  \n",
      " |  __getattribute__(self, name, /)\n",
      " |      Return getattr(self, name).\n",
      " |  \n",
      " |  __getnewargs__(self, /)\n",
      " |  \n",
      " |  __gt__(self, value, /)\n",
      " |      Return self>value.\n",
      " |  \n",
      " |  __hash__(self, /)\n",
      " |      Return hash(self).\n",
      " |  \n",
      " |  __int__(self, /)\n",
      " |      int(self)\n",
      " |  \n",
      " |  __le__(self, value, /)\n",
      " |      Return self<=value.\n",
      " |  \n",
      " |  __lt__(self, value, /)\n",
      " |      Return self<value.\n",
      " |  \n",
      " |  __mod__(self, value, /)\n",
      " |      Return self%value.\n",
      " |  \n",
      " |  __mul__(self, value, /)\n",
      " |      Return self*value.\n",
      " |  \n",
      " |  __ne__(self, value, /)\n",
      " |      Return self!=value.\n",
      " |  \n",
      " |  __neg__(self, /)\n",
      " |      -self\n",
      " |  \n",
      " |  __pos__(self, /)\n",
      " |      +self\n",
      " |  \n",
      " |  __pow__(self, value, mod=None, /)\n",
      " |      Return pow(self, value, mod).\n",
      " |  \n",
      " |  __radd__(self, value, /)\n",
      " |      Return value+self.\n",
      " |  \n",
      " |  __rdivmod__(self, value, /)\n",
      " |      Return divmod(value, self).\n",
      " |  \n",
      " |  __repr__(self, /)\n",
      " |      Return repr(self).\n",
      " |  \n",
      " |  __rfloordiv__(self, value, /)\n",
      " |      Return value//self.\n",
      " |  \n",
      " |  __rmod__(self, value, /)\n",
      " |      Return value%self.\n",
      " |  \n",
      " |  __rmul__(self, value, /)\n",
      " |      Return value*self.\n",
      " |  \n",
      " |  __round__(self, ndigits=None, /)\n",
      " |      Return the Integral closest to x, rounding half toward even.\n",
      " |      \n",
      " |      When an argument is passed, work like built-in round(x, ndigits).\n",
      " |  \n",
      " |  __rpow__(self, value, mod=None, /)\n",
      " |      Return pow(value, self, mod).\n",
      " |  \n",
      " |  __rsub__(self, value, /)\n",
      " |      Return value-self.\n",
      " |  \n",
      " |  __rtruediv__(self, value, /)\n",
      " |      Return value/self.\n",
      " |  \n",
      " |  __sub__(self, value, /)\n",
      " |      Return self-value.\n",
      " |  \n",
      " |  __truediv__(self, value, /)\n",
      " |      Return self/value.\n",
      " |  \n",
      " |  __trunc__(self, /)\n",
      " |      Return the Integral closest to x between 0 and x.\n",
      " |  \n",
      " |  as_integer_ratio(self, /)\n",
      " |      Return integer ratio.\n",
      " |      \n",
      " |      Return a pair of integers, whose ratio is exactly equal to the original float\n",
      " |      and with a positive denominator.\n",
      " |      \n",
      " |      Raise OverflowError on infinities and a ValueError on NaNs.\n",
      " |      \n",
      " |      >>> (10.0).as_integer_ratio()\n",
      " |      (10, 1)\n",
      " |      >>> (0.0).as_integer_ratio()\n",
      " |      (0, 1)\n",
      " |      >>> (-.25).as_integer_ratio()\n",
      " |      (-1, 4)\n",
      " |  \n",
      " |  conjugate(self, /)\n",
      " |      Return self, the complex conjugate of any float.\n",
      " |  \n",
      " |  hex(self, /)\n",
      " |      Return a hexadecimal representation of a floating-point number.\n",
      " |      \n",
      " |      >>> (-0.1).hex()\n",
      " |      '-0x1.999999999999ap-4'\n",
      " |      >>> 3.14159.hex()\n",
      " |      '0x1.921f9f01b866ep+1'\n",
      " |  \n",
      " |  is_integer(self, /)\n",
      " |      Return True if the float is an integer.\n",
      " |  \n",
      " |  ----------------------------------------------------------------------\n",
      " |  Class methods defined here:\n",
      " |  \n",
      " |  __getformat__(typestr, /) from builtins.type\n",
      " |      You probably don't want to use this function.\n",
      " |      \n",
      " |        typestr\n",
      " |          Must be 'double' or 'float'.\n",
      " |      \n",
      " |      It exists mainly to be used in Python's test suite.\n",
      " |      \n",
      " |      This function returns whichever of 'unknown', 'IEEE, big-endian' or 'IEEE,\n",
      " |      little-endian' best describes the format of floating point numbers used by the\n",
      " |      C type named by typestr.\n",
      " |  \n",
      " |  __setformat__(typestr, fmt, /) from builtins.type\n",
      " |      You probably don't want to use this function.\n",
      " |      \n",
      " |        typestr\n",
      " |          Must be 'double' or 'float'.\n",
      " |        fmt\n",
      " |          Must be one of 'unknown', 'IEEE, big-endian' or 'IEEE, little-endian',\n",
      " |          and in addition can only be one of the latter two if it appears to\n",
      " |          match the underlying C reality.\n",
      " |      \n",
      " |      It exists mainly to be used in Python's test suite.\n",
      " |      \n",
      " |      Override the automatic determination of C-level floating point type.\n",
      " |      This affects how floats are converted to and from binary strings.\n",
      " |  \n",
      " |  fromhex(string, /) from builtins.type\n",
      " |      Create a floating-point number from a hexadecimal string.\n",
      " |      \n",
      " |      >>> float.fromhex('0x1.ffffp10')\n",
      " |      2047.984375\n",
      " |      >>> float.fromhex('-0x1p-1074')\n",
      " |      -5e-324\n",
      " |  \n",
      " |  ----------------------------------------------------------------------\n",
      " |  Static methods defined here:\n",
      " |  \n",
      " |  __new__(*args, **kwargs) from builtins.type\n",
      " |      Create and return a new object.  See help(type) for accurate signature.\n",
      " |  \n",
      " |  ----------------------------------------------------------------------\n",
      " |  Data descriptors defined here:\n",
      " |  \n",
      " |  imag\n",
      " |      the imaginary part of a complex number\n",
      " |  \n",
      " |  real\n",
      " |      the real part of a complex number\n",
      "\n"
     ]
    }
   ],
   "source": [
    "help(\"float\")"
   ]
  },
  {
   "cell_type": "code",
   "execution_count": 8,
   "id": "da135764",
   "metadata": {},
   "outputs": [
    {
     "name": "stdout",
     "output_type": "stream",
     "text": [
      "1.0\n",
      "1.0\n"
     ]
    }
   ],
   "source": [
    "x = float(1)\n",
    "print(x)\n",
    "print(abs(x))\n"
   ]
  },
  {
   "cell_type": "code",
   "execution_count": 9,
   "id": "e71383b3",
   "metadata": {},
   "outputs": [
    {
     "data": {
      "text/plain": [
       "False"
      ]
     },
     "execution_count": 9,
     "metadata": {},
     "output_type": "execute_result"
    }
   ],
   "source": [
    "n = 10\n",
    "m = 1.1\n",
    "((n/m)).is_integer()\n",
    "\n"
   ]
  },
  {
   "cell_type": "markdown",
   "id": "afe3374e",
   "metadata": {},
   "source": [
    "editing the type of variables; in this example we go from type float to int"
   ]
  },
  {
   "cell_type": "code",
   "execution_count": 10,
   "id": "d66fc9fa",
   "metadata": {},
   "outputs": [
    {
     "name": "stdout",
     "output_type": "stream",
     "text": [
      "10 <class 'int'>\n"
     ]
    }
   ],
   "source": [
    "z = 10.0\n",
    "z = int(z)\n",
    "print(z,type(z))"
   ]
  },
  {
   "cell_type": "markdown",
   "id": "52a53d47",
   "metadata": {},
   "source": [
    "Printing with 'And' & 'or'"
   ]
  },
  {
   "cell_type": "code",
   "execution_count": 11,
   "id": "1735a223",
   "metadata": {},
   "outputs": [
    {
     "name": "stdout",
     "output_type": "stream",
     "text": [
      "False\n",
      "True\n",
      "False\n",
      "True\n"
     ]
    }
   ],
   "source": [
    "s = True \n",
    "r = False \n",
    "\n",
    "print(s and r) #prints 'False' because 's' is False\n",
    "print(s or r)  #prints 'True' because 'r' is True \n",
    "print(not s)   #prints 'False' because its the opposite of 's' \n",
    "print(s != r)  #prints 'True' because 's' doesnt equal 'r'   "
   ]
  },
  {
   "cell_type": "markdown",
   "id": "f970ead6",
   "metadata": {},
   "source": [
    "Since Python doesn't have type 'char', we can use '' or \"\" for string \\\n",
    "Use '''   ''' when text uses more than one line \n"
   ]
  },
  {
   "cell_type": "code",
   "execution_count": 12,
   "id": "8f089e8a",
   "metadata": {},
   "outputs": [
    {
     "name": "stdout",
     "output_type": "stream",
     "text": [
      "hello 5 <class 'str'>\n",
      "fives 5 <class 'str'>\n",
      "\n",
      "Some long text\n",
      "that takes up too many \n",
      "line \n",
      " 46 <class 'str'>\n",
      "S1 and S2 are the exact same:  False\n"
     ]
    }
   ],
   "source": [
    "s1 = 'hello'\n",
    "s2 = 'fives'\n",
    "s3 = '''\n",
    "Some long text\n",
    "that takes up too many \n",
    "line \n",
    "'''\n",
    "\n",
    "print(s1,len(s1),type(s1))\n",
    "print(s2,len(s2),type(s2))\n",
    "print(s3,len(s3),type(s3))\n",
    "print(\"S1 and S2 are the exact same: \", s1 == s2)\n"
   ]
  },
  {
   "cell_type": "markdown",
   "id": "4b8ba0b5",
   "metadata": {},
   "source": [
    "for s4 we are using sprintf style string formating \\\n",
    "    User inputs string type for the first two inputs, and an int for the 3rd \\\n",
    "for s5 we use string concatenation"
   ]
  },
  {
   "cell_type": "code",
   "execution_count": 13,
   "id": "c106fea7",
   "metadata": {},
   "outputs": [
    {
     "name": "stdout",
     "output_type": "stream",
     "text": [
      "Enter any string type: hello\n",
      "Enter any string type: world\n",
      "Enter any intiger1\n",
      "hello, world, 1\n",
      "hello to this world\n"
     ]
    }
   ],
   "source": [
    "userInput = input(\"Enter any string type: \")\n",
    "userInput2 = input(\"Enter any string type: \")\n",
    "userInput3 = input(\"Enter any intiger\")\n",
    "uI3 = int(userInput3)\n",
    "s4 = '%s, %s, %d' % (userInput,userInput2,uI3)\n",
    "s5 = userInput + ' to this ' + userInput2\n",
    "print(s4)\n",
    "print(s5)\n"
   ]
  },
  {
   "cell_type": "markdown",
   "id": "c15e7a75",
   "metadata": {},
   "source": [
    "**capitalize()**: capitalize the first letter\\\n",
    "**upper()**: capitalize the whole string\\\n",
    "**lower()**: lowercase the whole string\\\n",
    "**rjust(#)**: # spaces from the left\\\n",
    "**ljust(#)**: # spaces to the right\\\n",
    "**center(#)**: makes string lenght equal to #, adding space before and after\\\n",
    "**replace('x','y')**: 'x' is replaced with 'y'\\\n",
    "**strip()**: removes leading and trailing whitespace "
   ]
  },
  {
   "cell_type": "code",
   "execution_count": 14,
   "id": "15b60776",
   "metadata": {},
   "outputs": [
    {
     "name": "stdout",
     "output_type": "stream",
     "text": [
      " hello \n",
      " HELLO \n",
      " hello \n",
      "well  hello \n",
      "well   hello \n",
      " hello  there\n",
      " hello   there\n",
      " hello  lad\n",
      " hello   lad\n",
      " he(ill)(ill)o \n",
      "hello\n"
     ]
    }
   ],
   "source": [
    "s = ' hello '\n",
    "\n",
    "print(s.capitalize())\n",
    "print(s.upper())\n",
    "print(s.lower())\n",
    "print('well',s)      #to compare to rjust\n",
    "print('well',s.rjust(8))\n",
    "print(s,'there')     #to compare to ljust\n",
    "print(s.ljust(8),'there')\n",
    "print(s.center(7),'lad')\n",
    "print(s.center(8),\"lad\")\n",
    "print(s.replace('l','(ill)'))\n",
    "print(s.strip())"
   ]
  },
  {
   "cell_type": "markdown",
   "id": "fc34262b",
   "metadata": {},
   "source": [
    "### practice with lists \n"
   ]
  },
  {
   "cell_type": "code",
   "execution_count": 15,
   "id": "cc1dda3b",
   "metadata": {},
   "outputs": [
    {
     "name": "stdout",
     "output_type": "stream",
     "text": [
      "Enter the elements of the list, use space between each element: 1 2 3 4 5 6\n",
      "['1', '2', '3', '4', '5', '6']\n"
     ]
    }
   ],
   "source": [
    "list = input(\"Enter the elements of the list, use space between each element: \").split()\n",
    "print(list)"
   ]
  },
  {
   "cell_type": "markdown",
   "id": "a05867c5",
   "metadata": {},
   "source": [
    "list[#] = 'any value' : changes the # element to 'any value' \\\n",
    "**append(#)**: adds element # to the end of the list\n",
    "**insert(#,'value')**: adds element to postion #+1 with the value of 'value' \n",
    "**pop(#)**:  removes #+1 element "
   ]
  },
  {
   "cell_type": "code",
   "execution_count": 16,
   "id": "a3fc4304",
   "metadata": {},
   "outputs": [
    {
     "name": "stdout",
     "output_type": "stream",
     "text": [
      "1\n",
      "['1', '2', '3', '4', '5', '6', '2']\n",
      "['1', '2', '9', '3', '4', '5', '6', '2']\n",
      "['1', '2', '9', '3', '4', '5', '2']\n"
     ]
    }
   ],
   "source": [
    "print(list[0])\n",
    "list.append('2')\n",
    "print(list)\n",
    "list.insert(2,\"9\")\n",
    "print(list)\n",
    "list.pop(6)\n",
    "print(list)"
   ]
  },
  {
   "cell_type": "code",
   "execution_count": 17,
   "id": "1a045872",
   "metadata": {},
   "outputs": [
    {
     "name": "stdout",
     "output_type": "stream",
     "text": [
      "['1', '2', '9', '3'] <class 'list'>\n"
     ]
    }
   ],
   "source": [
    "print (list[:4],type(list)) #first 4th elements "
   ]
  },
  {
   "cell_type": "markdown",
   "id": "3cfc8c9a",
   "metadata": {},
   "source": [
    "Creating a **tuple**"
   ]
  },
  {
   "cell_type": "code",
   "execution_count": 18,
   "id": "5c5f05b8",
   "metadata": {},
   "outputs": [
    {
     "name": "stdout",
     "output_type": "stream",
     "text": [
      "(5, 6) <class 'tuple'>\n"
     ]
    }
   ],
   "source": [
    "t = (5,6)\n",
    "print(t,type(t))"
   ]
  },
  {
   "cell_type": "markdown",
   "id": "25078866",
   "metadata": {},
   "source": [
    "Tuple can be used as a key in a dictonary"
   ]
  },
  {
   "cell_type": "code",
   "execution_count": 19,
   "id": "6b227499",
   "metadata": {},
   "outputs": [
    {
     "name": "stdout",
     "output_type": "stream",
     "text": [
      "{(0, 1): 0, (1, 2): 1, (2, 3): 2, (3, 4): 3, (4, 5): 4, (5, 6): 5}\n",
      "5\n",
      "1\n"
     ]
    }
   ],
   "source": [
    "dict = {(x,x+1): x for x in range(6)} \n",
    "print (dict)\n",
    "print (dict[t])\n",
    "print (dict[1,2])\n",
    "#t[0] = 1 tuples are immutable so this would print an error "
   ]
  },
  {
   "cell_type": "markdown",
   "id": "dfb104bc",
   "metadata": {},
   "source": [
    "**Map** in python"
   ]
  },
  {
   "cell_type": "code",
   "execution_count": 20,
   "id": "603a9320",
   "metadata": {},
   "outputs": [
    {
     "name": "stdout",
     "output_type": "stream",
     "text": [
      "{'buddy': 'dog', 'jill': 'girl'} <class 'dict'>\n",
      "dog\n",
      "dict_keys(['buddy', 'jill'])\n",
      "dict_values(['dog', 'girl'])\n",
      "dict_items([('buddy', 'dog'), ('jill', 'girl')])\n",
      "True\n",
      "{'buddy': 'lion', 'jill': 'girl', 'dame': 'fish'}\n",
      "{'buddy': 'lion', 'dame': 'fish', 10: 69}\n"
     ]
    }
   ],
   "source": [
    "dct = {'buddy':'dog','jill':'girl' }\n",
    "\n",
    "print(dct,type(dct))\n",
    "print(dct['buddy'])          # prints value of buddy(key)\n",
    "print(dct.keys())            # prints all keys \n",
    "print(dct.values())          # prints all values \n",
    "print(dct.items())           # prints all keys and values \n",
    "print('buddy' in dct)        # prints 'true' if key is in dicatonary \n",
    "\n",
    "dct['dame'] = 'fish'         # creates key 'dame' with value 'fish'\n",
    "dct['buddy'] = 'lion'        # changes value of 'buddy'(key) to lion\n",
    "print(dct)\n",
    "del dct['jill'] \n",
    "dct[10] = 69                # adding a diff type in dictonary\n",
    "print(dct)"
   ]
  },
  {
   "cell_type": "code",
   "execution_count": 21,
   "id": "d197cb0c",
   "metadata": {
    "scrolled": true
   },
   "outputs": [
    {
     "name": "stdout",
     "output_type": "stream",
     "text": [
      "Help on class dict in module builtins:\n",
      "\n",
      "class dict(object)\n",
      " |  dict() -> new empty dictionary\n",
      " |  dict(mapping) -> new dictionary initialized from a mapping object's\n",
      " |      (key, value) pairs\n",
      " |  dict(iterable) -> new dictionary initialized as if via:\n",
      " |      d = {}\n",
      " |      for k, v in iterable:\n",
      " |          d[k] = v\n",
      " |  dict(**kwargs) -> new dictionary initialized with the name=value pairs\n",
      " |      in the keyword argument list.  For example:  dict(one=1, two=2)\n",
      " |  \n",
      " |  Built-in subclasses:\n",
      " |      StgDict\n",
      " |  \n",
      " |  Methods defined here:\n",
      " |  \n",
      " |  __contains__(self, key, /)\n",
      " |      True if the dictionary has the specified key, else False.\n",
      " |  \n",
      " |  __delitem__(self, key, /)\n",
      " |      Delete self[key].\n",
      " |  \n",
      " |  __eq__(self, value, /)\n",
      " |      Return self==value.\n",
      " |  \n",
      " |  __ge__(self, value, /)\n",
      " |      Return self>=value.\n",
      " |  \n",
      " |  __getattribute__(self, name, /)\n",
      " |      Return getattr(self, name).\n",
      " |  \n",
      " |  __getitem__(...)\n",
      " |      x.__getitem__(y) <==> x[y]\n",
      " |  \n",
      " |  __gt__(self, value, /)\n",
      " |      Return self>value.\n",
      " |  \n",
      " |  __init__(self, /, *args, **kwargs)\n",
      " |      Initialize self.  See help(type(self)) for accurate signature.\n",
      " |  \n",
      " |  __ior__(self, value, /)\n",
      " |      Return self|=value.\n",
      " |  \n",
      " |  __iter__(self, /)\n",
      " |      Implement iter(self).\n",
      " |  \n",
      " |  __le__(self, value, /)\n",
      " |      Return self<=value.\n",
      " |  \n",
      " |  __len__(self, /)\n",
      " |      Return len(self).\n",
      " |  \n",
      " |  __lt__(self, value, /)\n",
      " |      Return self<value.\n",
      " |  \n",
      " |  __ne__(self, value, /)\n",
      " |      Return self!=value.\n",
      " |  \n",
      " |  __or__(self, value, /)\n",
      " |      Return self|value.\n",
      " |  \n",
      " |  __repr__(self, /)\n",
      " |      Return repr(self).\n",
      " |  \n",
      " |  __reversed__(self, /)\n",
      " |      Return a reverse iterator over the dict keys.\n",
      " |  \n",
      " |  __ror__(self, value, /)\n",
      " |      Return value|self.\n",
      " |  \n",
      " |  __setitem__(self, key, value, /)\n",
      " |      Set self[key] to value.\n",
      " |  \n",
      " |  __sizeof__(...)\n",
      " |      D.__sizeof__() -> size of D in memory, in bytes\n",
      " |  \n",
      " |  clear(...)\n",
      " |      D.clear() -> None.  Remove all items from D.\n",
      " |  \n",
      " |  copy(...)\n",
      " |      D.copy() -> a shallow copy of D\n",
      " |  \n",
      " |  get(self, key, default=None, /)\n",
      " |      Return the value for key if key is in the dictionary, else default.\n",
      " |  \n",
      " |  items(...)\n",
      " |      D.items() -> a set-like object providing a view on D's items\n",
      " |  \n",
      " |  keys(...)\n",
      " |      D.keys() -> a set-like object providing a view on D's keys\n",
      " |  \n",
      " |  pop(...)\n",
      " |      D.pop(k[,d]) -> v, remove specified key and return the corresponding value.\n",
      " |      \n",
      " |      If the key is not found, return the default if given; otherwise,\n",
      " |      raise a KeyError.\n",
      " |  \n",
      " |  popitem(self, /)\n",
      " |      Remove and return a (key, value) pair as a 2-tuple.\n",
      " |      \n",
      " |      Pairs are returned in LIFO (last-in, first-out) order.\n",
      " |      Raises KeyError if the dict is empty.\n",
      " |  \n",
      " |  setdefault(self, key, default=None, /)\n",
      " |      Insert key with a value of default if key is not in the dictionary.\n",
      " |      \n",
      " |      Return the value for key if key is in the dictionary, else default.\n",
      " |  \n",
      " |  update(...)\n",
      " |      D.update([E, ]**F) -> None.  Update D from dict/iterable E and F.\n",
      " |      If E is present and has a .keys() method, then does:  for k in E: D[k] = E[k]\n",
      " |      If E is present and lacks a .keys() method, then does:  for k, v in E: D[k] = v\n",
      " |      In either case, this is followed by: for k in F:  D[k] = F[k]\n",
      " |  \n",
      " |  values(...)\n",
      " |      D.values() -> an object providing a view on D's values\n",
      " |  \n",
      " |  ----------------------------------------------------------------------\n",
      " |  Class methods defined here:\n",
      " |  \n",
      " |  __class_getitem__(...) from builtins.type\n",
      " |      See PEP 585\n",
      " |  \n",
      " |  fromkeys(iterable, value=None, /) from builtins.type\n",
      " |      Create a new dictionary with keys from iterable and values set to value.\n",
      " |  \n",
      " |  ----------------------------------------------------------------------\n",
      " |  Static methods defined here:\n",
      " |  \n",
      " |  __new__(*args, **kwargs) from builtins.type\n",
      " |      Create and return a new object.  See help(type) for accurate signature.\n",
      " |  \n",
      " |  ----------------------------------------------------------------------\n",
      " |  Data and other attributes defined here:\n",
      " |  \n",
      " |  __hash__ = None\n",
      "\n"
     ]
    }
   ],
   "source": [
    "help(\"dict\")"
   ]
  },
  {
   "cell_type": "markdown",
   "id": "065e22b2",
   "metadata": {},
   "source": [
    "To look up the value of a certin key use: \\\n",
    "\n",
    "**(dictName).get('key','N/A'))**\n",
    "\n",
    "using this function will pervent getting an error message incase the key doesnt exist, if it does then it will print the value of the key, otherwise print 'N/A'"
   ]
  },
  {
   "cell_type": "code",
   "execution_count": 22,
   "id": "e6d6fd06",
   "metadata": {},
   "outputs": [
    {
     "name": "stdout",
     "output_type": "stream",
     "text": [
      "69\n",
      "lion\n",
      "N/A\n"
     ]
    }
   ],
   "source": [
    "print (dct.get(10,'N/A')) # for number don't put ''\n",
    "print (dct.get('buddy','N/A'))\n",
    "print (dct.get(\"zombie\",\"N/A\"))"
   ]
  },
  {
   "cell_type": "markdown",
   "id": "d791d650",
   "metadata": {},
   "source": [
    "**Sets** in python"
   ]
  },
  {
   "cell_type": "code",
   "execution_count": 23,
   "id": "7d191ad2",
   "metadata": {},
   "outputs": [
    {
     "name": "stdout",
     "output_type": "stream",
     "text": [
      "{'dog', 'cat', 'fish'} <class 'set'>\n",
      "True\n",
      "False\n",
      "{'dog', 'hamster', 'cat', 'fish'}\n",
      "{'dog', 'hamster', 'fish'}\n"
     ]
    }
   ],
   "source": [
    "pets = {'cat','dog', 'fish'} # created a set pets\n",
    "print (pets, type(pets))     # print set pets with type\n",
    "print ('dog' in pets)        # true since dog is in set pets\n",
    "print ('lion' in pets)       \n",
    "pets.add('hamster')          # adds hamster to set pets\n",
    "print (pets)\n",
    "pets.remove('cat')           # removes cat from pets\n",
    "print(pets)"
   ]
  },
  {
   "cell_type": "markdown",
   "id": "8895bcf5",
   "metadata": {},
   "source": [
    "Practice with if, elif, else \n",
    "    \n",
    "    elif is if else in python \n",
    "    "
   ]
  },
  {
   "cell_type": "code",
   "execution_count": 24,
   "id": "0f928450",
   "metadata": {},
   "outputs": [
    {
     "name": "stdout",
     "output_type": "stream",
     "text": [
      "Enter your hight in feet: -1\n",
      "You lying\n"
     ]
    }
   ],
   "source": [
    "height = input(\"Enter your hight in feet: \")\n",
    "x = float(height)\n",
    "if x <= 5 and x > 0:\n",
    "    print (\"Are you a child?\")\n",
    "elif x > 5 and x < 6:\n",
    "    print (\"You are short\")\n",
    "elif x > 6 and x <= 7: \n",
    "    print(\"You are tall\")\n",
    "elif x > 7:\n",
    "    print (\"You are too tall\")\n",
    "else:\n",
    "    print (\"You lying\")\n"
   ]
  },
  {
   "cell_type": "markdown",
   "id": "c882c8ec",
   "metadata": {},
   "source": [
    "**While loop**"
   ]
  },
  {
   "cell_type": "code",
   "execution_count": 25,
   "id": "f2291677",
   "metadata": {},
   "outputs": [
    {
     "name": "stdout",
     "output_type": "stream",
     "text": [
      "Enter a positive whole number: 1\n",
      "The new value of x is 0 while the total is 1\n",
      "The final value of x and the total are: 0 1 while the loop ran: 1\n"
     ]
    }
   ],
   "source": [
    "value = input (\"Enter a positive whole number: \")\n",
    "x = int(value)\n",
    "total = 0\n",
    "y = 0\n",
    "while x > 0: \n",
    "    if total > 500:\n",
    "        break\n",
    "    total += x\n",
    "    x = x // 2\n",
    "    y = y + 1\n",
    "    print (\"The new value of x is\",x,\"while the total is\", total)\n",
    "print (\"The final value of x and the total are:\", x, total, \"while the loop ran:\", y )\n",
    "    "
   ]
  },
  {
   "cell_type": "markdown",
   "id": "faf1c3bb",
   "metadata": {},
   "source": [
    "**For loop**"
   ]
  },
  {
   "cell_type": "code",
   "execution_count": 26,
   "id": "f5324f56",
   "metadata": {},
   "outputs": [
    {
     "name": "stdout",
     "output_type": "stream",
     "text": [
      "Enter the whole number, you want the for loop to begin: 1\n",
      "Enter the whole number, you want the for loop to end: 10\n",
      "1\n",
      "2\n",
      "3\n",
      "4\n",
      "5\n",
      "6\n",
      "7\n",
      "8\n",
      "9\n",
      "The loop ran: 9 times\n"
     ]
    }
   ],
   "source": [
    "begin = input (\"Enter the whole number, you want the for loop to begin: \")\n",
    "end = input (\"Enter the whole number, you want the for loop to end: \")\n",
    "\n",
    "x = int(begin)\n",
    "y = int(end)\n",
    "z = 0\n",
    "for i in range(x,y,1): # start, end, increment by\n",
    "    print (i)\n",
    "    z = z +1\n",
    "    \n",
    "print(\"The loop ran:\", z, \"times\")\n",
    "\n"
   ]
  },
  {
   "cell_type": "markdown",
   "id": "0b004a60",
   "metadata": {},
   "source": [
    "User input list converted into seprate lists based on types"
   ]
  },
  {
   "cell_type": "code",
   "execution_count": 31,
   "id": "d1fd5e3e",
   "metadata": {},
   "outputs": [
    {
     "name": "stdout",
     "output_type": "stream",
     "text": [
      "Enter the lenght of the list: 5\n",
      "Enter the value for element 0 of the list: 1\n",
      "Enter the value for element 1 of the list: 2\n",
      "Enter the value for element 2 of the list: 2.2\n",
      "Enter the value for element 3 of the list: a\n",
      "Enter the value for element 4 of the list: ff2c 2\n",
      "The full list: ['1', '2', '2.2', 'a', 'ff2c 2']\n",
      "The ints in the list : [1, 2]\n",
      "The floats in the list : [2.2]\n",
      "The strings in the list : ['a', 'ff2c 2']\n"
     ]
    }
   ],
   "source": [
    "A = \"\"\n",
    "\n",
    "while not A.isdecimal():\n",
    "        A = input (\"Enter the lenght of the list: \")\n",
    "        \n",
    "x = int (A)\n",
    "u_list = []\n",
    "list_int = []\n",
    "list_str = []\n",
    "list_flt = []\n",
    "for i in range(x):\n",
    "    enter1 = input (f'Enter the value for element {i} of the list: ')\n",
    "    u_list.append(enter1)\n",
    "    try:\n",
    "        enter = int(enter1)\n",
    "        list_int.append(enter)\n",
    "    except ValueError:\n",
    "        try:\n",
    "            enter = float(enter1)\n",
    "            list_flt.append(enter)\n",
    "        except ValueError:\n",
    "            list_str.append(enter1)\n",
    "    \n",
    "print (f\"The full list: {u_list}\")\n",
    "print (f\"The ints in the list : {list_int}\")\n",
    "print (f\"The floats in the list : {list_flt}\")\n",
    "print (f\"The strings in the list : {list_str}\")"
   ]
  },
  {
   "cell_type": "code",
   "execution_count": null,
   "id": "283d339d",
   "metadata": {},
   "outputs": [],
   "source": []
  },
  {
   "cell_type": "code",
   "execution_count": null,
   "id": "9897889f",
   "metadata": {},
   "outputs": [],
   "source": []
  },
  {
   "cell_type": "code",
   "execution_count": null,
   "id": "a4aebf1d",
   "metadata": {},
   "outputs": [],
   "source": []
  }
 ],
 "metadata": {
  "kernelspec": {
   "display_name": "Python 3 (ipykernel)",
   "language": "python",
   "name": "python3"
  },
  "language_info": {
   "codemirror_mode": {
    "name": "ipython",
    "version": 3
   },
   "file_extension": ".py",
   "mimetype": "text/x-python",
   "name": "python",
   "nbconvert_exporter": "python",
   "pygments_lexer": "ipython3",
   "version": "3.10.8"
  }
 },
 "nbformat": 4,
 "nbformat_minor": 5
}
