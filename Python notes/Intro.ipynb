{
 "cells": [
  {
   "cell_type": "markdown",
   "id": "e82216cc",
   "metadata": {},
   "source": [
    "# Intro to Python"
   ]
  },
  {
   "cell_type": "markdown",
   "id": "bb2629a9",
   "metadata": {},
   "source": [
    "Just doing simple math "
   ]
  },
  {
   "cell_type": "code",
   "execution_count": 1,
   "id": "c30a4dc7",
   "metadata": {},
   "outputs": [
    {
     "data": {
      "text/plain": [
       "1.0"
      ]
     },
     "execution_count": 1,
     "metadata": {},
     "output_type": "execute_result"
    }
   ],
   "source": [
    "3/3"
   ]
  },
  {
   "cell_type": "markdown",
   "id": "3c72a0a6",
   "metadata": {},
   "source": [
    "Giving a variable a type and printing the value of a variable and its type (class).  "
   ]
  },
  {
   "cell_type": "code",
   "execution_count": 2,
   "id": "335b85a6",
   "metadata": {},
   "outputs": [
    {
     "name": "stdout",
     "output_type": "stream",
     "text": [
      "2.3\n",
      "<class 'float'>\n"
     ]
    }
   ],
   "source": [
    "b = 2.3      #b has the value of 2.3, hence making its class float \n",
    "print(b)\n",
    "print(type(b))\n",
    "\n"
   ]
  },
  {
   "cell_type": "markdown",
   "id": "094f9a81",
   "metadata": {},
   "source": [
    "there is no type char in python, so if b has the value 'a', we will see b is class string "
   ]
  },
  {
   "cell_type": "code",
   "execution_count": 3,
   "id": "71e2fe7d",
   "metadata": {},
   "outputs": [
    {
     "name": "stdout",
     "output_type": "stream",
     "text": [
      "a\n",
      "<class 'str'>\n"
     ]
    }
   ],
   "source": [
    "b = 'a'\n",
    "print(b)\n",
    "print(type(b))"
   ]
  },
  {
   "cell_type": "markdown",
   "id": "856e144c",
   "metadata": {},
   "source": [
    "To view all current keywords type the following prompt "
   ]
  },
  {
   "cell_type": "code",
   "execution_count": 4,
   "id": "5504a64f",
   "metadata": {},
   "outputs": [
    {
     "name": "stdout",
     "output_type": "stream",
     "text": [
      "['False', 'None', 'True', 'and', 'as', 'assert', 'async', 'await', 'break', 'class', 'continue', 'def', 'del', 'elif', 'else', 'except', 'finally', 'for', 'from', 'global', 'if', 'import', 'in', 'is', 'lambda', 'nonlocal', 'not', 'or', 'pass', 'raise', 'return', 'try', 'while', 'with', 'yield']\n"
     ]
    }
   ],
   "source": [
    "import keyword \n",
    "print(keyword.kwlist)"
   ]
  },
  {
   "cell_type": "markdown",
   "id": "2a760d0e",
   "metadata": {},
   "source": [
    "testing out the keyword 'true' and 'false' "
   ]
  },
  {
   "cell_type": "code",
   "execution_count": 31,
   "id": "2b5d13dd",
   "metadata": {},
   "outputs": [
    {
     "name": "stdout",
     "output_type": "stream",
     "text": [
      "True\n",
      "False\n",
      "False\n",
      "True\n"
     ]
    }
   ],
   "source": [
    "print (1 == 1)\n",
    "print (1 == 2)\n",
    "# use 'or' and 'and' instead of '||' and '&&'\n",
    "print (4 >= 4 and 4 >= 5)\n",
    "print (4 >= 4 or 4 >= 5)"
   ]
  },
  {
   "cell_type": "markdown",
   "id": "6050e1c6",
   "metadata": {},
   "source": [
    "Testing the return function:\n",
    "    def is the keyword to define a function \n",
    "    then it is followed by the name of the function, which appears in blue\n",
    "    followed by the parameter(s) in ()\n",
    "    we end with ':' which starts the function body \n",
    "        indent the next line "
   ]
  },
  {
   "cell_type": "code",
   "execution_count": 43,
   "id": "e94520e1",
   "metadata": {},
   "outputs": [
    {
     "name": "stdout",
     "output_type": "stream",
     "text": [
      "False\n"
     ]
    }
   ],
   "source": [
    "def testing_return_function(a):\n",
    "    if a == 2: \n",
    "        return True\n",
    "    else:\n",
    "        return False\n",
    "\n",
    "x = testing_return_function(3)      \n",
    "print(x)\n"
   ]
  },
  {
   "cell_type": "code",
   "execution_count": null,
   "id": "e8618ed9",
   "metadata": {},
   "outputs": [],
   "source": []
  },
  {
   "cell_type": "code",
   "execution_count": null,
   "id": "da135764",
   "metadata": {},
   "outputs": [],
   "source": []
  }
 ],
 "metadata": {
  "kernelspec": {
   "display_name": "Python 3 (ipykernel)",
   "language": "python",
   "name": "python3"
  },
  "language_info": {
   "codemirror_mode": {
    "name": "ipython",
    "version": 3
   },
   "file_extension": ".py",
   "mimetype": "text/x-python",
   "name": "python",
   "nbconvert_exporter": "python",
   "pygments_lexer": "ipython3",
   "version": "3.10.8"
  }
 },
 "nbformat": 4,
 "nbformat_minor": 5
}
