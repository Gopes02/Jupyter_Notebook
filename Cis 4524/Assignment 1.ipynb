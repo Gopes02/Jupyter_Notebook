{
 "cells": [
  {
   "cell_type": "code",
   "execution_count": 12,
   "id": "feeebf7d",
   "metadata": {},
   "outputs": [
    {
     "name": "stdout",
     "output_type": "stream",
     "text": [
      "Gopal Walia\n",
      "915019439\n"
     ]
    }
   ],
   "source": [
    "print(\"Gopal Walia\")\n",
    "print(\"915019439\")\n",
    "\n",
    "import csv            # used to read file in python\n",
    "import networkx as nx # dealing with complex networks. \n",
    "import pymnet         # visualize a Multilayer network\n",
    "\n"
   ]
  },
  {
   "cell_type": "code",
   "execution_count": 14,
   "id": "ca2287ad",
   "metadata": {},
   "outputs": [
    {
     "name": "stdout",
     "output_type": "stream",
     "text": [
      "Problem 1. [Visualizing a Multilayer Network] \n"
     ]
    }
   ],
   "source": [
    "print(\"Problem 1. [Visualizing a Multilayer Network] \")"
   ]
  },
  {
   "cell_type": "code",
   "execution_count": null,
   "id": "9363efed",
   "metadata": {},
   "outputs": [],
   "source": []
  }
 ],
 "metadata": {
  "kernelspec": {
   "display_name": "Python 3 (ipykernel)",
   "language": "python",
   "name": "python3"
  },
  "language_info": {
   "codemirror_mode": {
    "name": "ipython",
    "version": 3
   },
   "file_extension": ".py",
   "mimetype": "text/x-python",
   "name": "python",
   "nbconvert_exporter": "python",
   "pygments_lexer": "ipython3",
   "version": "3.10.8"
  }
 },
 "nbformat": 4,
 "nbformat_minor": 5
}
